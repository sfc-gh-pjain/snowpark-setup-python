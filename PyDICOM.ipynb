{
 "cells": [
  {
   "cell_type": "code",
   "execution_count": null,
   "id": "e681e57f",
   "metadata": {},
   "outputs": [],
   "source": [
    "import pydicom\n",
    "print(pydicom.__version__)"
   ]
  },
  {
   "cell_type": "code",
   "execution_count": null,
   "id": "c810be23",
   "metadata": {},
   "outputs": [],
   "source": [
    "from snowflake.snowpark import Session\n",
    "\n",
    "# fetch snowflake connection information\n",
    "from config import connection_parameters\n",
    "\n",
    "# build connection to Snowflake\n",
    "session = Session.builder.configs(connection_parameters).create()\n",
    "\n",
    "# find local pydicom location with : pip show pydicom\n",
    "session.add_import(\"[insert pydicom location here]\")  \n",
    "# session.add_import(\"pydicom\")\n",
    "# test if we have a connection\n",
    "session.sql(\"select current_warehouse() wh, current_database() db, current_schema() schema, current_version() ver\").show()"
   ]
  },
  {
   "cell_type": "code",
   "execution_count": null,
   "id": "e6df1abf",
   "metadata": {},
   "outputs": [],
   "source": [
    "session.sql('ls @dicom.public.dicom_st;').show()"
   ]
  },
  {
   "cell_type": "code",
   "execution_count": null,
   "id": "cf3b9864",
   "metadata": {},
   "outputs": [],
   "source": [
    "# create a table to store the results\n",
    "session.sql('create or replace table dicom (filename string, meta variant)').show()"
   ]
  },
  {
   "cell_type": "markdown",
   "id": "4f52aa92",
   "metadata": {},
   "source": [
    "# Single Dicom file (CT_small.dcm)"
   ]
  },
  {
   "cell_type": "code",
   "execution_count": null,
   "id": "e03da788",
   "metadata": {},
   "outputs": [],
   "source": [
    "# The attributes we want to extract\n",
    "dicomAttrs = {\n",
    "\"PerformingPhysicianName\" : \"\",\n",
    "\"PatientName\": \"\",\n",
    "\"PatientBirthDate\": \"\",\n",
    "\"Manufacturer\": \"\",\n",
    "\"PatientID\": \"\",\n",
    "\"PatientSex\": \"\",\n",
    "\"PatientWeight\": \"\",\n",
    "\"PatientPosition\": \"\",\n",
    "\"StudyID\": \"\",\n",
    "\"PhotometricInterpretation\": \"\",\n",
    "\"RequestedProcedureID\": \"\",\n",
    "\"ProtocolName\": \"\",\n",
    "\"ImagingFrequency\": \"\",\n",
    "\"StudyDate\": \"\",\n",
    "\"StudyTime\": \"\",\n",
    "\"ContentDate\": \"\",\n",
    "\"ContentTime\": \"\",\n",
    "\"InstanceCreationDate\": \"\",\n",
    "\"SpecificCharacterSet\": \"\",\n",
    "\"StudyDescription\": \"\",\n",
    "\"ReferringPhysicianName\": \"\",\n",
    "\"ImageType\": \"\",\n",
    "\"ImplementationVersionName\": \"\",\n",
    "\"TransferSyntaxUID\": \"\"\n",
    "}"
   ]
  },
  {
   "cell_type": "markdown",
   "id": "a386d116",
   "metadata": {},
   "source": [
    "# Single Dicom UDF"
   ]
  },
  {
   "cell_type": "code",
   "execution_count": null,
   "id": "a1f31e67",
   "metadata": {},
   "outputs": [],
   "source": [
    "# Create the stage to store the Python UDF\n",
    "session.sql('create stage if not exists dicom_udf_st directory = (enable = true); ').show()\n",
    "\n",
    "session.add_import(\"@dicom.public.dicom_st/CT_small.dcm\") \n",
    "\n",
    "def get_import_dir() -> str:\n",
    "    import sys\n",
    "    IMPORT_DIRECTORY_NAME = \"snowflake_import_directory\"\n",
    "    return sys._xoptions[IMPORT_DIRECTORY_NAME] \n",
    "\n",
    "def pydicom_attrs() -> str:\n",
    "  import json\n",
    "  from pydicom import dcmread\n",
    "  import_dir = get_import_dir() \n",
    "  fpath = import_dir + 'CT_small.dcm'\n",
    "  ds = dcmread(fpath)\n",
    "  \n",
    "  for elName in dicomAttrs.keys():\n",
    "    if ds.get_item(elName):\n",
    "        elem = ds[elName]\n",
    "        dicomAttrs.update({elName: str(elem.value)})\n",
    "\n",
    "  return json.dumps(dicomAttrs)\n",
    "\n",
    "\n",
    "# define as UDF\n",
    "extrUDF = session.udf.register(pydicom_attrs, name=\"pydicom_attrs\", is_permanent=True, stage_location=\"dicom_udf_st\", replace=True)\n",
    "\n",
    "print(\"UDF '\"+str(extrUDF.name)+\"' created\")"
   ]
  },
  {
   "cell_type": "code",
   "execution_count": null,
   "id": "d5d046ce",
   "metadata": {},
   "outputs": [],
   "source": [
    "session.sql('INSERT INTO DICOM SELECT \\'CT_small.dcm\\', parse_json(pydicom_attrs())').show()\n",
    "session.table('DICOM').show()"
   ]
  },
  {
   "cell_type": "markdown",
   "id": "a4136c6b",
   "metadata": {},
   "source": [
    "# Multiple files, dynamic"
   ]
  },
  {
   "cell_type": "code",
   "execution_count": null,
   "id": "1a630400",
   "metadata": {},
   "outputs": [],
   "source": [
    "# dynamic- for production this should be an SPROC\n",
    "\n",
    "dcmFiles = session.sql('select relative_path as FPATH from directory(@dicom.public.dicom_st) where relative_path ilike \\'%.dcm\\'')\n",
    "\n",
    "for row in dcmFiles.to_local_iterator():\n",
    "    fName = row['FPATH']\n",
    "    \n",
    "    #dynamically create UDF\n",
    "    session.clear_imports() \n",
    "    # find local pydicom location with : pip show pydicom\n",
    "    session.add_import(\"[insert pydicom location here]\")  \n",
    "    session.add_import(\"@dicom.public.dicom_st/\"+fName)\n",
    "    \n",
    "    def pydicom_attrs_tmp() -> str:\n",
    "      import json\n",
    "      from pydicom import dcmread\n",
    "      import_dir = get_import_dir() \n",
    "      fpath = import_dir + fName\n",
    "      ds = dcmread(fpath, force=True)\n",
    "  \n",
    "      for elName in dicomAttrs.keys():\n",
    "        if ds.get_item(elName):\n",
    "            elem = ds[elName]\n",
    "            dicomAttrs.update({elName: str(elem.value)})\n",
    "\n",
    "      return json.dumps(dicomAttrs)\n",
    "\n",
    "    pyditmp = session.udf.register(pydicom_attrs_tmp)\n",
    "    \n",
    "    session.sql('INSERT INTO DICOM SELECT \\''+fName+'\\',parse_json('+pyditmp.name+'())').collect()\n",
    "    print (fName + ' ... OK')\n",
    "    \n",
    "print('done')\n",
    "\n",
    "session.table('DICOM').show()"
   ]
  },
  {
   "cell_type": "code",
   "execution_count": null,
   "id": "c2311300",
   "metadata": {},
   "outputs": [],
   "source": [
    "# create a view to visualize the results in columns\n",
    "session.sql('create or replace view dicom_vw as select filename, meta:ContentDate::String as ContentDate,meta:ContentTime::String as ContentTime,meta:ImageType::String as ImageType,meta:ImagingFrequency::String as ImagingFrequency,meta:ImplementationVersionName::String as ImplementationVersionName,meta:InstanceCreationDate::String as InstanceCreationDate,meta:Manufacturer::String as Manufacturer,meta:PatientBirthDate::String as PatientDOB,meta:PatientID::String as PatientId,meta:PatientName::String as PatientName,meta:PatientPosition::String as PatientPosition,meta:PatientSex::String as PatientSex,meta:PatientWeight::String as PatientWeight,meta:PerformingPhysicianName::String as PerformingPhysicianName,meta:PhotometricInterpretation::String as PhotometricInterpretation,meta:ProtocolName::String as ProtocolName,meta:ReferringPhysicianName::String as ReferringPhysicianName,meta:RequestedProcedureID::String as RequestedProcedureID, meta:SpecificCharacterSet::String as SpecificCharacterSet, meta:StudyDate::String as StudyDate, meta:StudyDescription::String as StudyDescription, meta:StudyID::String as StudyID, meta:StudyTime::String as StudyTime, meta:TransferSyntaxUID::String as TransferSyntaxUID from DICOM').show()\n",
    "\n",
    "df = session.table(\"DICOM_VW\")\n",
    "df.select('filename', 'imagetype', 'manufacturer', 'patientsex', 'PHOTOMETRICINTERPRETATION').toPandas()\n"
   ]
  },
  {
   "cell_type": "code",
   "execution_count": null,
   "id": "6f12cf49",
   "metadata": {},
   "outputs": [],
   "source": []
  }
 ],
 "metadata": {
  "kernelspec": {
   "display_name": "Python 3 (ipykernel)",
   "language": "python",
   "name": "python3"
  },
  "language_info": {
   "codemirror_mode": {
    "name": "ipython",
    "version": 3
   },
   "file_extension": ".py",
   "mimetype": "text/x-python",
   "name": "python",
   "nbconvert_exporter": "python",
   "pygments_lexer": "ipython3",
   "version": "3.8.13"
  }
 },
 "nbformat": 4,
 "nbformat_minor": 5
}
